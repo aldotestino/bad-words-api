{
 "cells": [
  {
   "cell_type": "code",
   "execution_count": null,
   "metadata": {},
   "outputs": [],
   "source": [
    "import torch\n",
    "from torch import nn\n",
    "from transformers import BertTokenizer, BertModel"
   ]
  },
  {
   "cell_type": "code",
   "execution_count": null,
   "metadata": {},
   "outputs": [],
   "source": [
    "class BERTBadWordClassifier(nn.Module):\n",
    "  def __init__(self, bert_model_name, num_classes):\n",
    "    super(BERTBadWordClassifier, self).__init__()\n",
    "    self.bert = BertModel.from_pretrained(bert_model_name)\n",
    "    self.dropout = nn.Dropout(0.1)\n",
    "    self.fc = nn.Linear(self.bert.config.hidden_size, num_classes)\n",
    "\n",
    "  def forward(self, input_ids, attention_mask):\n",
    "    outputs = self.bert(input_ids=input_ids, attention_mask=attention_mask)\n",
    "    pooled_output = outputs.pooler_output\n",
    "    x = self.dropout(pooled_output)\n",
    "    logits = self.fc(x)\n",
    "    return logits"
   ]
  },
  {
   "cell_type": "code",
   "execution_count": null,
   "metadata": {},
   "outputs": [],
   "source": [
    "def predict_bad_word(text, model, tokenizer, device, max_length=128):\n",
    "    model.eval()\n",
    "    encoding = tokenizer(text, return_tensors='pt', max_length=max_length, padding='max_length', truncation=True).to(device)\n",
    "\n",
    "    with torch.no_grad():\n",
    "        outputs = model(input_ids=encoding['input_ids'], attention_mask=encoding['attention_mask'])\n",
    "        probs = torch.nn.functional.softmax(outputs, dim=1)\n",
    "        pred = torch.argmax(probs, dim=1).item()\n",
    "\n",
    "    return (\"bad\" if pred == 1 else \"nice\", probs[0][pred].item())\n"
   ]
  },
  {
   "cell_type": "code",
   "execution_count": null,
   "metadata": {},
   "outputs": [],
   "source": [
    "bert_model_name = \"bert-base-cased\"\n",
    "num_classes = 2\n",
    "max_length = 128"
   ]
  },
  {
   "cell_type": "code",
   "execution_count": null,
   "metadata": {},
   "outputs": [],
   "source": [
    "device = torch.device(\"mps\" if torch.backends.mps.is_built() else \"cuda\" if torch.cuda.is_available() else \"cpu\")\n",
    "tokenizer = BertTokenizer.from_pretrained(bert_model_name)\n",
    "model = BERTBadWordClassifier(bert_model_name, num_classes).to(device)\n",
    "model.load_state_dict(torch.load('./api/model/classifier.pth', map_location=device))"
   ]
  },
  {
   "cell_type": "code",
   "execution_count": null,
   "metadata": {},
   "outputs": [],
   "source": [
    "test_texts = [\n",
    "    \"Fuck\",\n",
    "    \"Motherfucker\",\n",
    "    \"Hello\",\n",
    "    \"cunt\",\n",
    "    \"Stupid bitch\",\n",
    "    \"OMG\"\n",
    "]\n",
    "\n",
    "for test_text in test_texts:\n",
    "  prediction, score = predict_bad_word(test_text, model,  , device)\n",
    "  print(test_text)\n",
    "  print(f'Prediction: {prediction} {score}\\n')"
   ]
  }
 ],
 "metadata": {
  "kernelspec": {
   "display_name": ".venv",
   "language": "python",
   "name": "python3"
  },
  "language_info": {
   "codemirror_mode": {
    "name": "ipython",
    "version": 3
   },
   "file_extension": ".py",
   "mimetype": "text/x-python",
   "name": "python",
   "nbconvert_exporter": "python",
   "pygments_lexer": "ipython3",
   "version": "3.11.6"
  }
 },
 "nbformat": 4,
 "nbformat_minor": 2
}
