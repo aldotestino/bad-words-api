{
 "cells": [
  {
   "cell_type": "code",
   "execution_count": null,
   "metadata": {},
   "outputs": [],
   "source": [
    "from transformers import BertModel\n",
    "from transformers import BertTokenizer\n",
    "from torch import nn\n",
    "import torch"
   ]
  },
  {
   "cell_type": "code",
   "execution_count": null,
   "metadata": {},
   "outputs": [],
   "source": [
    "class BERTBadWordClassifier(nn.Module):\n",
    "  def __init__(self):\n",
    "    super(BERTBadWordClassifier, self).__init__()\n",
    "    self.bert_model_name = \"bert-base-cased\"\n",
    "    self.num_classes = 2\n",
    "    self.bert = BertModel.from_pretrained(self.bert_model_name)\n",
    "    self.tokenizer = BertTokenizer.from_pretrained(self.bert_model_name)\n",
    "    self.device = torch.device(\"mps\" if torch.backends.mps.is_built() else \"cuda\" if torch.cuda.is_available() else \"cpu\")\n",
    "    self.dropout = nn.Dropout(0.1)\n",
    "    self.fc = nn.Linear(self.bert.config.hidden_size, self.num_classes)\n",
    "    self.load_state_dict(torch.load('classifier.pth', map_location=self.device))\n",
    "    self.to(self.device)\n",
    "\n",
    "  def forward(self, input_ids, attention_mask):\n",
    "    outputs = self.bert(input_ids=input_ids, attention_mask=attention_mask)\n",
    "    pooled_output = outputs.pooler_output\n",
    "    x = self.dropout(pooled_output)\n",
    "    logits = self.fc(x)\n",
    "    return logits\n",
    "  \n",
    "  def predict_bad_word(self, text, max_length=128):\n",
    "    self.eval()\n",
    "    encoding = self.tokenizer(text, return_tensors='pt', max_length=max_length, padding='max_length', truncation=True).to(self.device)\n",
    "\n",
    "    with torch.no_grad():\n",
    "        outputs = self.forward(input_ids=encoding['input_ids'], attention_mask=encoding['attention_mask'])\n",
    "        probs = torch.nn.functional.softmax(outputs, dim=1)\n",
    "        pred = torch.argmax(probs, dim=1).item()\n",
    "\n",
    "    return pred, probs[0][pred].item()"
   ]
  },
  {
   "cell_type": "code",
   "execution_count": null,
   "metadata": {},
   "outputs": [],
   "source": [
    "model = BERTBadWordClassifier()"
   ]
  },
  {
   "cell_type": "code",
   "execution_count": null,
   "metadata": {},
   "outputs": [],
   "source": [
    "test_texts = [\n",
    "    \"Fuck\",\n",
    "    \"Motherfucker\",\n",
    "    \"Hello\",\n",
    "    \"cunt\",\n",
    "    \"Stupid bitch\",\n",
    "    \"OMG\"\n",
    "]\n",
    "\n",
    "for test_text in test_texts:\n",
    "  prediction, score = model.predict_bad_word(test_text)\n",
    "  print(test_text)\n",
    "  print(f'Prediction: {prediction} {score}\\n')"
   ]
  }
 ],
 "metadata": {
  "kernelspec": {
   "display_name": ".venv",
   "language": "python",
   "name": "python3"
  },
  "language_info": {
   "codemirror_mode": {
    "name": "ipython",
    "version": 3
   },
   "file_extension": ".py",
   "mimetype": "text/x-python",
   "name": "python",
   "nbconvert_exporter": "python",
   "pygments_lexer": "ipython3",
   "version": "3.11.6"
  }
 },
 "nbformat": 4,
 "nbformat_minor": 2
}
